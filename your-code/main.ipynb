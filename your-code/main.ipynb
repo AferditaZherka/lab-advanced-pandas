{
  "cells": [
    {
      "cell_type": "markdown",
      "metadata": {
        "id": "XBoB91qnm37V"
      },
      "source": [
        "# Before your start:\n",
        "- Read the README.md file\n",
        "- Comment as much as you can and use the resources (README.md file)\n",
        "- Happy learning!"
      ]
    },
    {
      "cell_type": "code",
      "execution_count": null,
      "metadata": {
        "id": "1YHE_vQnm37Z"
      },
      "outputs": [],
      "source": [
        "import pandas as pd\n",
        "import numpy as np\n",
        "import statistics as stats"
      ]
    },
    {
      "cell_type": "markdown",
      "metadata": {
        "id": "O7H5pEmZm37a"
      },
      "source": [
        "# Challenge 1 - Index Functions\n",
        "\n",
        "In this challenge, we will practice the advanced functions introduced in the lesson. However, before we start, we will load and evaluate our dataset. \n",
        "\n",
        "Load the dataset from Ironhack's database:\n",
        "* db: `admissions predict`\n",
        "* table: `admissions predict`"
      ]
    },
    {
      "cell_type": "code",
      "execution_count": null,
      "metadata": {
        "colab": {
          "base_uri": "https://localhost:8080/",
          "height": 206
        },
        "id": "GbMkF5nom37b",
        "outputId": "fcef16e1-c00c-4516-b1af-eaa0cc60de99"
      },
      "outputs": [],
      "source": [
        "admissions = pd.read_csv('Admission_Predict.csv')\n",
        "admissions.head()"
      ]
    },
    {
      "cell_type": "markdown",
      "metadata": {
        "id": "7HMGo8XZm37e"
      },
      "source": [
        "Remove trailing spaces at the end of the column names if there are any.\n"
      ]
    },
    {
      "cell_type": "code",
      "execution_count": null,
      "metadata": {
        "colab": {
          "base_uri": "https://localhost:8080/"
        },
        "id": "ZR2fPXdnm37f",
        "outputId": "ee192a28-d0a5-4ef7-9687-0fb42702b59c"
      },
      "outputs": [],
      "source": [
        "admissions.columns = admissions.columns.str.rstrip()\n",
        "admissions.columns"
      ]
    },
    {
      "cell_type": "markdown",
      "metadata": {
        "id": "LB35tn4Lm37g"
      },
      "source": [
        "Let's evaluate the dataset by looking at the `head` function."
      ]
    },
    {
      "cell_type": "code",
      "execution_count": null,
      "metadata": {
        "colab": {
          "base_uri": "https://localhost:8080/",
          "height": 206
        },
        "id": "ojg3gQtmm37g",
        "outputId": "a2360044-46a8-4d05-df07-5d2b41e7674f"
      },
      "outputs": [],
      "source": [
        "admissions.head()"
      ]
    },
    {
      "cell_type": "markdown",
      "metadata": {
        "id": "JzX8T5Pbm37h"
      },
      "source": [
        "Before beginning to work with this dataset and evaluating graduate admissions data, we will verify that there is no missing data in the dataset. Do this in the cell below."
      ]
    },
    {
      "cell_type": "code",
      "execution_count": null,
      "metadata": {
        "colab": {
          "base_uri": "https://localhost:8080/",
          "height": 441
        },
        "id": "-440f1R7m37i",
        "outputId": "7e24f792-5382-4aea-c72c-fb371c9036c1"
      },
      "outputs": [],
      "source": [
        "bool_series = admissions.notnull()\n",
        "print(admissions.shape)\n",
        "admissions[bool_series]  #There are no missing data"
      ]
    },
    {
      "cell_type": "markdown",
      "metadata": {
        "id": "ergDEFZfm37i"
      },
      "source": [
        "Interestingly, there is a column that uniquely identifies the applicants. This column is the serial number column. Instead of having our own index, we should make this column our index. Do this in the cell below. Keep the column in the dataframe in addition to making it an index."
      ]
    },
    {
      "cell_type": "code",
      "execution_count": null,
      "metadata": {
        "colab": {
          "base_uri": "https://localhost:8080/",
          "height": 206
        },
        "id": "01giMIYqm37j",
        "outputId": "0612daf3-23b1-4291-9eff-2620b55eadf5"
      },
      "outputs": [],
      "source": [
        "admissions.set_index('Serial No.', drop = False)\n",
        "admissions.head()"
      ]
    },
    {
      "cell_type": "markdown",
      "metadata": {
        "id": "lD3dfoELm37k"
      },
      "source": [
        "Turns out that `GRE Score` and `CGPA` also uniquely identify the data. Show this in the cell below."
      ]
    },
    {
      "cell_type": "code",
      "execution_count": null,
      "metadata": {
        "colab": {
          "base_uri": "https://localhost:8080/",
          "height": 237
        },
        "id": "63TKrX35m37l",
        "outputId": "608add9f-5ed4-4ced-955e-3e2e8fdfad06"
      },
      "outputs": [],
      "source": [
        "admissions.set_index(['GRE Score','CGPA'], drop = True, inplace = True)\n",
        "admissions.head()"
      ]
    },
    {
      "cell_type": "markdown",
      "metadata": {
        "id": "FZuzmM0om37m"
      },
      "source": [
        "Replace the index with an index comprised of two columns - `GRE Score` and `CGPA`. Remove the columns from the dataset as well. Make sure to use `inplace=True`."
      ]
    },
    {
      "cell_type": "markdown",
      "metadata": {
        "id": "qiuJOih6m37n"
      },
      "source": [
        "Now change the index back to a sequence starting at zero using the `reset_index` function. Make sure to use `inplace=True`."
      ]
    },
    {
      "cell_type": "code",
      "execution_count": null,
      "metadata": {
        "colab": {
          "base_uri": "https://localhost:8080/",
          "height": 206
        },
        "id": "rsEP3dSam37n",
        "outputId": "917d5693-6258-4190-dcd1-ad9d1137c1ab"
      },
      "outputs": [],
      "source": [
        "admissions.reset_index(inplace=True)\n",
        "admissions.head()"
      ]
    },
    {
      "cell_type": "markdown",
      "metadata": {
        "id": "m5WgbRdxm37o"
      },
      "source": [
        "# Challenge 2 - Advanced Functions\n",
        "\n",
        "In this part of the lab, we would like to test complex conditions on the entire dataset at once. Let's start by finding the number of rows where the CGPA is higher than 9 and the student has conducted research."
      ]
    },
    {
      "cell_type": "code",
      "execution_count": null,
      "metadata": {
        "colab": {
          "base_uri": "https://localhost:8080/"
        },
        "id": "hoFKE5Vmm37p",
        "outputId": "f911e9f0-1541-4453-cda3-6dd735ff5079"
      },
      "outputs": [],
      "source": [
        "admissions1 = admissions[(admissions['CGPA'] > 9) & (admissions['Research'] == True)]\n",
        "admissions1.shape\n",
        "\n",
        "#This reduces the number of rows from 385 to 101"
      ]
    },
    {
      "cell_type": "markdown",
      "metadata": {
        "id": "INurh2sNm37q"
      },
      "source": [
        "Now return all the rows where the CGPA is greater than 9 and the SOP score is less than 3.5. Find the mean chance of admit for these applicants."
      ]
    },
    {
      "cell_type": "code",
      "execution_count": null,
      "metadata": {
        "colab": {
          "base_uri": "https://localhost:8080/"
        },
        "id": "Tl57onOsm37s",
        "outputId": "9266e2c8-3449-464e-9e7a-24e6948d0f72"
      },
      "outputs": [],
      "source": [
        "admissions1 = admissions[(admissions['CGPA'] > 9) & (admissions['SOP'] < 3.5)]\n",
        "admissions1['Chance of Admit'].mean()"
      ]
    },
    {
      "cell_type": "code",
      "execution_count": null,
      "metadata": {
        "colab": {
          "base_uri": "https://localhost:8080/",
          "height": 206
        },
        "id": "G7U4guJr13Er",
        "outputId": "7f992cf4-0d26-4d25-a432-6d7d4b8bc172"
      },
      "outputs": [],
      "source": [
        "admissions1"
      ]
    },
    {
      "cell_type": "markdown",
      "metadata": {
        "id": "JIdOntqum372"
      },
      "source": [
        "We would like to create a deciding factor column for each student. We standardize several columns and then pick the most important factor from a lookup table. If the standardized value is above 0.8, the student will be accepted.\n",
        "\n",
        "We will start by creating a standardized column for `CGPA`, `GRE Score` and `LOR`. We will name these columns `CGPA_std`, `GRE_std`, and `LOR_std` respecively.\n",
        "\n",
        "Recall that standardizing a column is done by subtracting the mean of the column from all observations in the column and then dividing each observation in the column by the column's standard deviation.\n",
        "\n",
        "In the cell below, write a standardization function (a function that takes a column as input and returns a standardized column as output). Make sure to use the `numpy` versions of mean and standard deviation."
      ]
    },
    {
      "cell_type": "code",
      "execution_count": null,
      "metadata": {
        "id": "xwu3oazNm373"
      },
      "outputs": [],
      "source": [
        "def standardize(col):\n",
        "  return (admissions[col]-admissions[col].mean()) / admissions[col].std\n",
        "\n"
      ]
    },
    {
      "cell_type": "code",
      "execution_count": null,
      "metadata": {
        "colab": {
          "base_uri": "https://localhost:8080/",
          "height": 206
        },
        "id": "AB66_97T3175",
        "outputId": "a91ad255-3c76-4aff-fad2-65bf31c12ac1"
      },
      "outputs": [],
      "source": [
        "admissions"
      ]
    },
    {
      "cell_type": "code",
      "execution_count": null,
      "metadata": {},
      "outputs": [],
      "source": [
        "admissions['GRE_std'] = admissions['GRE Score'].apply(standardize) #this does not work\n",
        "admissions['LOR_std'] = standardize('LOR') #this does not work either"
      ]
    },
    {
      "cell_type": "markdown",
      "metadata": {
        "id": "ibyAQSCjm375"
      },
      "source": [
        "Now create the standardized columns `CGPA_std`, `GRE_std`, and `LOR_std` and add them to the `admissions` dataframe."
      ]
    },
    {
      "cell_type": "code",
      "execution_count": null,
      "metadata": {
        "colab": {
          "base_uri": "https://localhost:8080/",
          "height": 380
        },
        "id": "clxCB5SXm375",
        "outputId": "f5ddb704-8949-4904-de76-d4bbe19b157d"
      },
      "outputs": [],
      "source": [
        "admissions['CGPA_std'] = standardize('CGPA')\n",
        "admissions['GRE_std'] = standardize('GRE Score')\n",
        "admissions['LOR_std'] = standardize('LOR')\n",
        "\n",
        "#It worked during the class and now it wont :/\n",
        "admissions"
      ]
    },
    {
      "cell_type": "markdown",
      "metadata": {
        "id": "24mCCnU2m376"
      },
      "source": [
        "We will generate the decision choice at random using the code below. Please run the cell."
      ]
    },
    {
      "cell_type": "code",
      "execution_count": null,
      "metadata": {
        "id": "GTMGpm0Bm377"
      },
      "outputs": [],
      "source": [
        "# Libraries\n",
        "from random import choices"
      ]
    },
    {
      "cell_type": "code",
      "execution_count": null,
      "metadata": {
        "colab": {
          "base_uri": "https://localhost:8080/"
        },
        "id": "YdxSDTBlm378",
        "outputId": "68b9a753-f4c8-4558-eb77-468f3ec73ec0"
      },
      "outputs": [],
      "source": [
        "std_columns = ['CGPA_std', 'GRE_std', 'LOR_std']\n",
        "\n",
        "decision_choice = choices(std_columns, k=admissions.shape[0])\n",
        "decision_choice"
      ]
    },
    {
      "cell_type": "markdown",
      "metadata": {
        "id": "G0Am-Nggm378"
      },
      "source": [
        "Now create the deciding column using the `lookup` function. The lookup column is `decision_choice` found above. Call the column resulting from the lookup function `deciding_column` and add it to the `admissions` dataframe."
      ]
    },
    {
      "cell_type": "code",
      "execution_count": null,
      "metadata": {
        "colab": {
          "base_uri": "https://localhost:8080/",
          "height": 376
        },
        "id": "3DCp1jA8m379",
        "outputId": "7ce28a3d-30f2-4af5-b905-8b5b1d8621e3"
      },
      "outputs": [],
      "source": [
        "# your code here\n",
        "admissions['deciding_column'] = admissions.lookup(admissions.index, decision_choice)\n",
        "admissions"
      ]
    },
    {
      "cell_type": "markdown",
      "metadata": {
        "id": "ejqHD27pm379"
      },
      "source": [
        "Create a column called `decision` in the `admissions` dataframe. Assign 1 to this column if the value of `deciding_column` is greater than 0.8 and 0 otherwise."
      ]
    },
    {
      "cell_type": "code",
      "execution_count": null,
      "metadata": {
        "colab": {
          "base_uri": "https://localhost:8080/",
          "height": 501
        },
        "id": "OVSopsqnm37-",
        "outputId": "edaf4fbf-c8b2-4e49-bd44-585b95ccb746"
      },
      "outputs": [],
      "source": [
        "admissions['decision'] = [1 if value > 0.8 else 0 for value in admissions['deciding_column']]"
      ]
    },
    {
      "cell_type": "markdown",
      "metadata": {
        "id": "iz4uNwp6m38A"
      },
      "source": [
        "How many applicants will be accepted to the program using the decision column? Compute the result below."
      ]
    },
    {
      "cell_type": "code",
      "execution_count": null,
      "metadata": {
        "colab": {
          "base_uri": "https://localhost:8080/",
          "height": 501
        },
        "id": "VNjL72nqm38B",
        "outputId": "04a9af14-f916-4f78-99f7-a7b4f7766387"
      },
      "outputs": [],
      "source": [
        "# your code here\n",
        "admissions['decision'].value_counts()"
      ]
    },
    {
      "cell_type": "markdown",
      "metadata": {
        "id": "rusfoiF9m38C"
      },
      "source": [
        "# Challenge 3 - Method Chaining\n",
        "\n",
        "To increase our coding efficiency, let's make a number of changes to our dataframe in one line of code.\n",
        "\n",
        "In the cell below, remove all non character symbols from the column names, replace all spaces in column names to underscores, and change all upper case characters to lower case. Assign these new column values to `admissions.columns`."
      ]
    },
    {
      "cell_type": "code",
      "execution_count": null,
      "metadata": {
        "id": "_g8HKYRHm38C"
      },
      "outputs": [],
      "source": [
        "from tables.table import Cols\n",
        "new_list = []\n",
        "for cols in admissions.columns:\n",
        "    new_list.append(cols.\n",
        "                    strip(\".\").\n",
        "                    replace(\" \",\"_\").\n",
        "                    lower()\n",
        "                   )       \n"
      ]
    },
    {
      "cell_type": "code",
      "execution_count": null,
      "metadata": {
        "id": "6U1JQ5xM_IKE"
      },
      "outputs": [],
      "source": [
        "admissions.columns = new_list"
      ]
    },
    {
      "cell_type": "markdown",
      "metadata": {
        "id": "MMkjPxprm38D"
      },
      "source": [
        "In the cell below, give all student with a university rating of 4 or higher a 10 point boost on their GRE score and split the column into 4 bins using the `cut` function. Assign this new score to the variable `adjusted_gre`."
      ]
    },
    {
      "cell_type": "code",
      "execution_count": null,
      "metadata": {
        "id": "lUGlVgZcm38D"
      },
      "outputs": [],
      "source": [
        "condition = admissions['university_rating'] >=4\n",
        "admissions['adjusted_gre']= pd.cut(admissions[condition]['gre_score'].add(10), bins=4)\n"
      ]
    },
    {
      "cell_type": "code",
      "execution_count": null,
      "metadata": {
        "colab": {
          "base_uri": "https://localhost:8080/",
          "height": 206
        },
        "id": "A93A_vUit3Qm",
        "outputId": "665074f8-7ca9-4fd6-85b6-39e4f7e1664a"
      },
      "outputs": [],
      "source": [
        "admissions.head()"
      ]
    }
  ],
  "metadata": {
    "colab": {
      "collapsed_sections": [],
      "provenance": []
    },
    "kernelspec": {
      "display_name": "Python 3.9.12 ('base')",
      "language": "python",
      "name": "python3"
    },
    "language_info": {
      "codemirror_mode": {
        "name": "ipython",
        "version": 3
      },
      "file_extension": ".py",
      "mimetype": "text/x-python",
      "name": "python",
      "nbconvert_exporter": "python",
      "pygments_lexer": "ipython3",
      "version": "3.9.12"
    },
    "vscode": {
      "interpreter": {
        "hash": "be84b5ffa8a37ab11574afbdc8d52b1d8f0f0e56b1ef9e14008d1f1b8a7a8b73"
      }
    }
  },
  "nbformat": 4,
  "nbformat_minor": 0
}
